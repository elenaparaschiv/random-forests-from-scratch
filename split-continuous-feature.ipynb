{
 "cells": [
  {
   "cell_type": "markdown",
   "id": "authorized-priority",
   "metadata": {},
   "source": [
    "## Exercise 1\n",
    "\n",
    "Split a dataset on continuous features.\n",
    "\n",
    "Imagine we have a dataset like the below:"
   ]
  },
  {
   "cell_type": "code",
   "execution_count": null,
   "id": "relative-border",
   "metadata": {},
   "outputs": [],
   "source": [
    "import numpy as np\n",
    "import pandas as pd\n",
    "\n",
    "np.random.seed(42)\n",
    "target = np.random.normal(0, 1, 1024)\n",
    "dataset = pd.DataFrame({\n",
    "    'target': target,\n",
    "    'feature-1': target * np.random.normal(0, 0.1, 1024),\n",
    "    'feature-2': np.random.normal(0, 0.1, 1024)\n",
    "})\n",
    "\n",
    "dataset.head(3)"
   ]
  },
  {
   "cell_type": "markdown",
   "id": "rising-shelter",
   "metadata": {},
   "source": [
    "Write an algorithm to find the best way to split our data:\n",
    "- which feature to split on,\n",
    "- where to split that feature (less than a threshold goes into one half, greater that goes into the other)\n",
    "\n",
    "The rough steps in this algorithm are:\n",
    "\n",
    "```python\n",
    "for feature in features:\n",
    "    for split in feature_splits\n",
    "        calculate_split_quality(split)\n",
    "```"
   ]
  },
  {
   "cell_type": "code",
   "execution_count": null,
   "id": "statistical-details",
   "metadata": {},
   "outputs": [],
   "source": []
  }
 ],
 "metadata": {
  "kernelspec": {
   "display_name": "Python 3",
   "language": "python",
   "name": "python3"
  },
  "language_info": {
   "codemirror_mode": {
    "name": "ipython",
    "version": 3
   },
   "file_extension": ".py",
   "mimetype": "text/x-python",
   "name": "python",
   "nbconvert_exporter": "python",
   "pygments_lexer": "ipython3",
   "version": "3.8.5"
  }
 },
 "nbformat": 4,
 "nbformat_minor": 5
}
